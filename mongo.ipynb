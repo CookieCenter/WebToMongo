{
 "cells": [
  {
   "cell_type": "code",
   "execution_count": 2,
   "id": "5dbdfc3a",
   "metadata": {},
   "outputs": [],
   "source": [
    "from pymongo import MongoClient"
   ]
  },
  {
   "cell_type": "code",
   "execution_count": 4,
   "id": "2e2d1102",
   "metadata": {},
   "outputs": [],
   "source": [
    "def get_database():\n",
    "    # Provide the mongodb atlas url to connect python to mongodb using pymongo\n",
    "    CONNECTION_STRING = \"mongodb://localhost:27017/\"\n",
    "\n",
    "    # Create a connection using MongoClient. You can import MongoClient or use pymongo.MongoClient\n",
    "    client = MongoClient(CONNECTION_STRING)\n",
    "\n",
    "    # Create the database for our example (we will use the same database throughout the tutorial\n",
    "    return client['immobilien_daten']\n",
    "  \n",
    "# This is added so that many files can reuse the function get_database()\n",
    "if __name__ == \"__main__\":   \n",
    "\n",
    "    # Get the database\n",
    "    dbname = get_database()"
   ]
  },
  {
   "cell_type": "code",
   "execution_count": 7,
   "id": "abf3b7ee",
   "metadata": {},
   "outputs": [],
   "source": [
    "dbname = get_database()\n",
    "collection_name = dbname[\"immobilien\"]"
   ]
  },
  {
   "cell_type": "code",
   "execution_count": 22,
   "id": "6e38a6bd",
   "metadata": {},
   "outputs": [
    {
     "data": {
      "text/plain": [
       "<pymongo.results.InsertOneResult at 0x214133a7f10>"
      ]
     },
     "execution_count": 22,
     "metadata": {},
     "output_type": "execute_result"
    }
   ],
   "source": [
    "from dateutil import parser\n",
    "expiry_date = '2021-07-13T00:00:00.000Z'\n",
    "expiry = parser.parse(expiry_date)\n",
    "item_3 = {\n",
    "  \"item_name\" : \"Bread\",\n",
    "  \"quantity\" : 2,\n",
    "  \"ingredients\" : \"all-purpose floura\",\n",
    "  \"expiry_date\" : expiry\n",
    "}\n",
    "collection_name.insert_one(item_3)"
   ]
  },
  {
   "cell_type": "code",
   "execution_count": 23,
   "id": "869e5e15",
   "metadata": {},
   "outputs": [
    {
     "name": "stdout",
     "output_type": "stream",
     "text": [
      "<pymongo.cursor.Cursor object at 0x00000214143E6A90>\n",
      "{'_id': ObjectId('652fb586a885f00221fda6f8'), 'item_name': 'Bread', 'quantity': 2, 'ingredients': 'all-purpose floura', 'expiry_date': datetime.datetime(2021, 7, 13, 0, 0)}\n",
      "{'_id': ObjectId('652fb588a885f00221fda6f9'), 'item_name': 'Bread', 'quantity': 2, 'ingredients': 'all-purpose floura', 'expiry_date': datetime.datetime(2021, 7, 13, 0, 0)}\n",
      "{'_id': ObjectId('652fb60ea885f00221fda6fa'), 'item_name': 'Bread', 'quantity': 2, 'ingredients': 'all-purpose floura', 'expiry_date': datetime.datetime(2021, 7, 13, 0, 0)}\n"
     ]
    }
   ],
   "source": [
    "item_details = collection_name.find({\"ingredients\" : \"all-purpose floura\"})\n",
    "print(item_details)\n",
    "for item in item_details:\n",
    "   # This does not give a very readable output\n",
    "   print(item)"
   ]
  },
  {
   "cell_type": "code",
   "execution_count": null,
   "id": "f5674273",
   "metadata": {},
   "outputs": [],
   "source": []
  }
 ],
 "metadata": {
  "kernelspec": {
   "display_name": "Python 3 (ipykernel)",
   "language": "python",
   "name": "python3"
  },
  "language_info": {
   "codemirror_mode": {
    "name": "ipython",
    "version": 3
   },
   "file_extension": ".py",
   "mimetype": "text/x-python",
   "name": "python",
   "nbconvert_exporter": "python",
   "pygments_lexer": "ipython3",
   "version": "3.11.5"
  }
 },
 "nbformat": 4,
 "nbformat_minor": 5
}
